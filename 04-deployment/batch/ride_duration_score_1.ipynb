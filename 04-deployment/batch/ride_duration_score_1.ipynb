{
 "cells": [
  {
   "cell_type": "code",
   "execution_count": 8,
   "id": "52a784b0",
   "metadata": {},
   "outputs": [],
   "source": [
    "from sklearn.feature_extraction import DictVectorizer\n",
    "from sklearn.linear_model import LinearRegression\n",
    "from sklearn.ensemble import RandomForestRegressor\n",
    "from sklearn.metrics import mean_squared_error\n",
    "from sklearn.pipeline import make_pipeline\n",
    "\n",
    "import pickle \n",
    "import pandas as pd\n",
    "import mlflow\n",
    "import os\n",
    "import uuid"
   ]
  },
  {
   "cell_type": "code",
   "execution_count": 9,
   "id": "6c74c671",
   "metadata": {},
   "outputs": [],
   "source": [
    "year = 2021\n",
    "month= 2\n",
    "taxi_type = 'green'\n",
    "\n",
    "INPUT_PATH= f'https://d37ci6vzurychx.cloudfront.net/trip-data/{taxi_type}_tripdata_{year:04d}-{month:02d}.parquet'\n",
    "OUTPUT_PATH = f'./output/{taxi_type}/{year:04d}-{month:02d}.parquet'\n",
    "RUN_ID = os.getenv('RUN_ID', 'e041808c2a2849919731587f28600398')"
   ]
  },
  {
   "cell_type": "code",
   "execution_count": 10,
   "id": "8a6097b9",
   "metadata": {},
   "outputs": [],
   "source": [
    "def generate_uuids(n):\n",
    "    ride_ids =[]\n",
    "    for i in range(n):\n",
    "        ride_ids.append(str(uuid.uuid4()))\n",
    "    return ride_ids\n",
    "\n",
    "def read_data(filename:str):\n",
    "    df = pd.read_parquet(filename)\n",
    "    \n",
    "    df['duration'] = df.lpep_dropoff_datetime - df.lpep_pickup_datetime \n",
    "    df.duration = df.duration.dt.total_seconds() / 60\n",
    "    df = df[(df.duration >= 1) & (df.duration <= 60)]\n",
    "    \n",
    "    df['ride_id'] = generate_uuids(len(df))\n",
    "    \n",
    "    return df\n",
    "\n",
    "def prepare_dictionaries(df:pd.DataFrame):\n",
    "    categorical = ['PULocationID','DOLocationID']\n",
    "    df[categorical] = df[categorical].astype(str)\n",
    "    \n",
    "    df['PICKUP_DROPOFF'] = df['PULocationID'] + '_' + df['DOLocationID']\n",
    "    categorical = ['PICKUP_DROPOFF']\n",
    "    numerical = ['trip_distance']\n",
    "    dict_dataset = df[categorical + numerical].to_dict(orient='records')\n",
    "    return dict_dataset"
   ]
  },
  {
   "cell_type": "code",
   "execution_count": 11,
   "id": "b43c9ef5",
   "metadata": {},
   "outputs": [],
   "source": [
    "def load_model(run_id):\n",
    "    \n",
    "    # Load model as a PyFuncModel.\n",
    "    logged_model = f\"../web-service-mlflow-model/mlflow-artifacts/1/{run_id}/artifacts/model\"\n",
    "    model = mlflow.pyfunc.load_model(logged_model)\n",
    "    return model\n",
    "    \n",
    "\n",
    "def apply_model(input_path, output_path, run_id):\n",
    "    \n",
    "    df = read_data(input_path)\n",
    "    dicts = prepare_dictionaries(df)\n",
    "    \n",
    "    ## load model\n",
    "    model = load_model(run_id)\n",
    "    \n",
    "    ## predict model\n",
    "    y_pred = model.predict(dicts)\n",
    "    \n",
    "    ### create empty dataframe\n",
    "    result = pd.DataFrame()\n",
    "    result['PULocationID'] = df['PULocationID']\n",
    "    result['DOLocationID']=df['DOLocationID']\n",
    "    result['actual_duration'] = df['duration']\n",
    "    result['predicted_duration'] = y_pred\n",
    "    result['diff'] = result['actual_duration'] - result['predicted_duration']\n",
    "    result['model_version'] = RUN_ID\n",
    "    \n",
    "    result.to_parquet(output_path, index=False) "
   ]
  },
  {
   "cell_type": "code",
   "execution_count": 12,
   "id": "26af5b3f",
   "metadata": {
    "scrolled": true
   },
   "outputs": [],
   "source": [
    "apply_model(input_path=INPUT_PATH, output_path=OUTPUT_PATH, run_id=RUN_ID)"
   ]
  },
  {
   "cell_type": "code",
   "execution_count": null,
   "id": "311b210a",
   "metadata": {},
   "outputs": [],
   "source": []
  }
 ],
 "metadata": {
  "kernelspec": {
   "display_name": "Python 3 (ipykernel)",
   "language": "python",
   "name": "python3"
  },
  "language_info": {
   "codemirror_mode": {
    "name": "ipython",
    "version": 3
   },
   "file_extension": ".py",
   "mimetype": "text/x-python",
   "name": "python",
   "nbconvert_exporter": "python",
   "pygments_lexer": "ipython3",
   "version": "3.9.15"
  },
  "vscode": {
   "interpreter": {
    "hash": "a8b1bc399753707ae69f2867144dc266c42080238386e8d588be9e1955cbff65"
   }
  }
 },
 "nbformat": 4,
 "nbformat_minor": 5
}
