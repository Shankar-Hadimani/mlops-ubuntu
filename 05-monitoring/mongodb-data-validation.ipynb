{
 "cells": [
  {
   "cell_type": "code",
   "execution_count": 1,
   "id": "c9332655",
   "metadata": {},
   "outputs": [],
   "source": [
    "import os\n",
    "import pickle\n",
    "\n",
    "import requests\n",
    "from flask import Flask, request, jsonify\n",
    "from pymongo import MongoClient"
   ]
  },
  {
   "cell_type": "code",
   "execution_count": 2,
   "id": "d054a4d4",
   "metadata": {},
   "outputs": [],
   "source": [
    "client = MongoClient('mongodb://127.0.0.1:27018')\n",
    "db = client.get_database('prediction_service')"
   ]
  },
  {
   "cell_type": "code",
   "execution_count": 3,
   "id": "9b99f51e",
   "metadata": {},
   "outputs": [],
   "source": [
    "collection = db.get_collection('data')"
   ]
  },
  {
   "cell_type": "code",
   "execution_count": 6,
   "id": "3e65eb3d",
   "metadata": {},
   "outputs": [],
   "source": [
    "data = list(collection.find())"
   ]
  },
  {
   "cell_type": "code",
   "execution_count": 15,
   "id": "974c7ec1",
   "metadata": {},
   "outputs": [
    {
     "data": {
      "text/plain": [
       "[{'_id': ObjectId('63b9d599eb9b661a3e88066d'),\n",
       "  'VendorID': 2,\n",
       "  'lpep_pickup_datetime': '2022-01-01T00:14:21',\n",
       "  'lpep_dropoff_datetime': '2022-01-01T00:15:33',\n",
       "  'store_and_fwd_flag': 'N',\n",
       "  'RatecodeID': 1.0,\n",
       "  'PULocationID': 42,\n",
       "  'DOLocationID': 42,\n",
       "  'passenger_count': 1.0,\n",
       "  'trip_distance': 0.44,\n",
       "  'fare_amount': 3.5,\n",
       "  'extra': 0.5,\n",
       "  'mta_tax': 0.5,\n",
       "  'tip_amount': 0.0,\n",
       "  'tolls_amount': 0.0,\n",
       "  'ehail_fee': None,\n",
       "  'improvement_surcharge': 0.3,\n",
       "  'total_amount': 4.8,\n",
       "  'payment_type': 2.0,\n",
       "  'trip_type': 1.0,\n",
       "  'congestion_surcharge': 0.0,\n",
       "  'id': '6c8d9395-bcd0-4356-b860-d78944f1067d',\n",
       "  'PU_DO': '42_42',\n",
       "  'prediction': 25.819302728049085},\n",
       " {'_id': ObjectId('63b9d5a0eb9b661a3e88066e'),\n",
       "  'VendorID': 1,\n",
       "  'lpep_pickup_datetime': '2022-01-01T00:20:55',\n",
       "  'lpep_dropoff_datetime': '2022-01-01T00:29:38',\n",
       "  'store_and_fwd_flag': 'N',\n",
       "  'RatecodeID': 1.0,\n",
       "  'PULocationID': 116,\n",
       "  'DOLocationID': 41,\n",
       "  'passenger_count': 1.0,\n",
       "  'trip_distance': 2.1,\n",
       "  'fare_amount': 9.5,\n",
       "  'extra': 0.5,\n",
       "  'mta_tax': 0.5,\n",
       "  'tip_amount': 0.0,\n",
       "  'tolls_amount': 0.0,\n",
       "  'ehail_fee': None,\n",
       "  'improvement_surcharge': 0.3,\n",
       "  'total_amount': 10.8,\n",
       "  'payment_type': 2.0,\n",
       "  'trip_type': 1.0,\n",
       "  'congestion_surcharge': 0.0,\n",
       "  'id': '0871e228-2870-4e67-bf64-e70552430acf',\n",
       "  'PU_DO': '116_41',\n",
       "  'prediction': 25.81936900812171}]"
      ]
     },
     "execution_count": 15,
     "metadata": {},
     "output_type": "execute_result"
    }
   ],
   "source": [
    "data[0:2]"
   ]
  },
  {
   "cell_type": "code",
   "execution_count": 16,
   "id": "9d69a6ee",
   "metadata": {},
   "outputs": [
    {
     "data": {
      "text/plain": [
       "1797"
      ]
     },
     "execution_count": 16,
     "metadata": {},
     "output_type": "execute_result"
    }
   ],
   "source": [
    "len(data)"
   ]
  },
  {
   "cell_type": "code",
   "execution_count": null,
   "id": "1f6c9dac",
   "metadata": {},
   "outputs": [],
   "source": []
  }
 ],
 "metadata": {
  "kernelspec": {
   "display_name": "Python 3 (ipykernel)",
   "language": "python",
   "name": "python3"
  },
  "language_info": {
   "codemirror_mode": {
    "name": "ipython",
    "version": 3
   },
   "file_extension": ".py",
   "mimetype": "text/x-python",
   "name": "python",
   "nbconvert_exporter": "python",
   "pygments_lexer": "ipython3",
   "version": "3.9.15"
  }
 },
 "nbformat": 4,
 "nbformat_minor": 5
}
